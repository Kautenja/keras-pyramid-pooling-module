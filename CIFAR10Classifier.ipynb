{
 "cells": [
  {
   "cell_type": "code",
   "execution_count": 1,
   "metadata": {},
   "outputs": [],
   "source": [
    "import numpy as np\n",
    "import pandas as pd\n",
    "import matplotlib.pyplot as plt\n",
    "%matplotlib inline\n",
    "import tensorflow as tf\n",
    "import keras\n",
    "from keras.layers import Activation\n",
    "from keras.layers import BatchNormalization\n",
    "from keras.layers import Conv2D\n",
    "from keras.layers import Dense\n",
    "from keras.layers import Dropout\n",
    "from keras.layers import Flatten\n",
    "from keras.layers import Input\n",
    "from keras.models import Model\n",
    "from keras_pyramid_pooling_module import PyramidPoolingModule"
   ]
  },
  {
   "cell_type": "code",
   "execution_count": 2,
   "metadata": {},
   "outputs": [],
   "source": [
    "np.random.seed(222)\n",
    "tf.random.set_seed(222)"
   ]
  },
  {
   "cell_type": "code",
   "execution_count": 3,
   "metadata": {},
   "outputs": [],
   "source": [
    "def plot_image_grid(data, figsize=(15, 15), cmap=None, cbar=True):\n",
    "    \"\"\"\n",
    "    Plot the data as a grid of images.\n",
    "\n",
    "    Args:\n",
    "        data: the tensor of image data to plot in\n",
    "        (M, N, H, W, C) format where M is the \n",
    "        height of the image grid, N is the width\n",
    "        of the image grid, H is the height of the\n",
    "        image, W is the width of the image, and C\n",
    "        is the channel dimensionality of the image\n",
    "        cmap: the color map to use for the data\n",
    "        cbar: whether to include a color bar legend\n",
    "\n",
    "    Returns:\n",
    "        None\n",
    "\n",
    "    \"\"\"\n",
    "    M, N = data.shape[0], data.shape[1]\n",
    "    fig, ax = plt.subplots(nrows=M, ncols=N, sharex=True, sharey=True, figsize=figsize)\n",
    "    for i in range(M):    \n",
    "        for j in range(N): \n",
    "            idx = i + 1 + N * j\n",
    "            im = ax[i, j].imshow(data[i, j], cmap=cmap)\n",
    "            ax[i, j].axes.xaxis.set_major_locator(plt.NullLocator())\n",
    "            ax[i, j].axes.yaxis.set_major_locator(plt.NullLocator())\n",
    "    if cbar:\n",
    "        cb_ax = fig.add_axes([1., 0.2, 0.02, 0.6])\n",
    "        cbar = fig.colorbar(im, cax=cb_ax)"
   ]
  },
  {
   "cell_type": "markdown",
   "metadata": {},
   "source": [
    "# Dataset"
   ]
  },
  {
   "cell_type": "code",
   "execution_count": 4,
   "metadata": {},
   "outputs": [],
   "source": [
    "(X_train, y_train), (X_test, y_test) = keras.datasets.mnist.load_data()\n",
    "# normalize images into [0, 1]\n",
    "X_train = X_train[..., None] / 255.0\n",
    "X_test = X_test[..., None] / 255.0\n",
    "# get the target size of the images and number of classes\n",
    "TARGET_SIZE = X_train.shape[1:]\n",
    "NUM_CLASSES = np.max(y_train) + 1\n",
    "# convert discrete labels to one-hot vectors\n",
    "y_train = np.eye(NUM_CLASSES)[y_train.flatten()]\n",
    "y_test = np.eye(NUM_CLASSES)[y_test.flatten()]"
   ]
  },
  {
   "cell_type": "code",
   "execution_count": 5,
   "metadata": {},
   "outputs": [
    {
     "data": {
      "text/plain": [
       "((60000, 28, 28, 1), (60000, 10))"
      ]
     },
     "execution_count": 5,
     "metadata": {},
     "output_type": "execute_result"
    }
   ],
   "source": [
    "X_train.shape, y_train.shape"
   ]
  },
  {
   "cell_type": "code",
   "execution_count": 6,
   "metadata": {},
   "outputs": [
    {
     "data": {
      "text/plain": [
       "((10000, 28, 28, 1), (10000, 10))"
      ]
     },
     "execution_count": 6,
     "metadata": {},
     "output_type": "execute_result"
    }
   ],
   "source": [
    "X_test.shape, y_test.shape"
   ]
  },
  {
   "cell_type": "code",
   "execution_count": 7,
   "metadata": {},
   "outputs": [
    {
     "data": {
      "image/png": "[encoded data removed]",
      "text/plain": [
       "<Figure size 1080x1080 with 25 Axes>"
      ]
     },
     "metadata": {},
     "output_type": "display_data"
    }
   ],
   "source": [
    "plot_image_grid(X_train[:25].reshape(5, 5, 28, 28, 1), cbar=False, cmap='bone')"
   ]
  },
  {
   "cell_type": "markdown",
   "metadata": {},
   "source": [
    "# Model"
   ]
  },
  {
   "cell_type": "markdown",
   "metadata": {},
   "source": [
    "## Baseline"
   ]
  },
  {
   "cell_type": "code",
   "execution_count": 8,
   "metadata": {},
   "outputs": [
    {
     "name": "stdout",
     "output_type": "stream",
     "text": [
      "Model: \"model\"\n",
      "_________________________________________________________________\n",
      "Layer (type)                 Output Shape              Param #   \n",
      "=================================================================\n",
      "input_1 (InputLayer)         [(None, 28, 28, 1)]       0         \n",
      "_________________________________________________________________\n",
      "conv2d (Conv2D)              (None, 28, 28, 64)        320       \n",
      "_________________________________________________________________\n",
      "batch_normalization (BatchNo (None, 28, 28, 64)        256       \n",
      "_________________________________________________________________\n",
      "dropout (Dropout)            (None, 28, 28, 64)        0         \n",
      "_________________________________________________________________\n",
      "conv2d_1 (Conv2D)            (None, 28, 28, 64)        16448     \n",
      "_________________________________________________________________\n",
      "batch_normalization_1 (Batch (None, 28, 28, 64)        256       \n",
      "_________________________________________________________________\n",
      "dropout_1 (Dropout)          (None, 28, 28, 64)        0         \n",
      "_________________________________________________________________\n",
      "conv2d_2 (Conv2D)            (None, 28, 28, 64)        16448     \n",
      "_________________________________________________________________\n",
      "batch_normalization_2 (Batch (None, 28, 28, 64)        256       \n",
      "_________________________________________________________________\n",
      "dropout_2 (Dropout)          (None, 28, 28, 64)        0         \n",
      "_________________________________________________________________\n",
      "flatten (Flatten)            (None, 50176)             0         \n",
      "_________________________________________________________________\n",
      "dense (Dense)                (None, 10)                501770    \n",
      "=================================================================\n",
      "Total params: 535,754\n",
      "Trainable params: 535,370\n",
      "Non-trainable params: 384\n",
      "_________________________________________________________________\n"
     ]
    }
   ],
   "source": [
    "input_layer = Input(TARGET_SIZE)\n",
    "x = input_layer\n",
    "x = Conv2D(64, (2, 2), padding='same', activation='relu')(x)\n",
    "x = BatchNormalization()(x)\n",
    "x = Dropout(0.2)(x)\n",
    "x = Conv2D(64, (2, 2), padding='same', activation='relu')(x)\n",
    "x = BatchNormalization()(x)\n",
    "x = Dropout(0.2)(x)\n",
    "x = Conv2D(64, (2, 2), padding='same', activation='relu')(x)\n",
    "x = BatchNormalization()(x)\n",
    "x = Dropout(0.2)(x)\n",
    "x = Flatten()(x)\n",
    "x = Dense(10, activation='softmax')(x)\n",
    "model = Model(inputs=input_layer, outputs=x)\n",
    "model.compile(loss='categorical_crossentropy', metrics=['accuracy'])\n",
    "model.summary()"
   ]
  },
  {
   "cell_type": "code",
   "execution_count": 9,
   "metadata": {
    "scrolled": false
   },
   "outputs": [
    {
     "name": "stdout",
     "output_type": "stream",
     "text": [
      "Epoch 1/5\n",
      "4200/4200 [==============================] - 24s 5ms/step - loss: 1.0363 - accuracy: 0.8894 - val_loss: 0.5280 - val_accuracy: 0.9577\n",
      "Epoch 2/5\n",
      "4200/4200 [==============================] - 22s 5ms/step - loss: 0.3822 - accuracy: 0.9657 - val_loss: 0.3016 - val_accuracy: 0.9750\n",
      "Epoch 3/5\n",
      "4200/4200 [==============================] - 22s 5ms/step - loss: 0.1911 - accuracy: 0.9770 - val_loss: 0.2256 - val_accuracy: 0.9746\n",
      "Epoch 4/5\n",
      "4200/4200 [==============================] - 22s 5ms/step - loss: 0.1211 - accuracy: 0.9817 - val_loss: 0.1681 - val_accuracy: 0.9783\n",
      "Epoch 5/5\n",
      "4200/4200 [==============================] - 22s 5ms/step - loss: 0.0876 - accuracy: 0.9845 - val_loss: 0.1449 - val_accuracy: 0.9794\n"
     ]
    }
   ],
   "source": [
    "history1 = model.fit(X_train, y_train, \n",
    "    epochs=5, \n",
    "    batch_size=10, \n",
    "    validation_split=0.3,\n",
    "    shuffle=True,\n",
    ")"
   ]
  },
  {
   "cell_type": "code",
   "execution_count": 10,
   "metadata": {},
   "outputs": [
    {
     "data": {
      "text/html": [
       "<div>\n",
       "<style scoped>\n",
       "    .dataframe tbody tr th:only-of-type {\n",
       "        vertical-align: middle;\n",
       "    }\n",
       "\n",
       "    .dataframe tbody tr th {\n",
       "        vertical-align: top;\n",
       "    }\n",
       "\n",
       "    .dataframe thead th {\n",
       "        text-align: right;\n",
       "    }\n",
       "</style>\n",
       "<table border=\"1\" class=\"dataframe\">\n",
       "  <thead>\n",
       "    <tr style=\"text-align: right;\">\n",
       "      <th></th>\n",
       "      <th>loss</th>\n",
       "      <th>accuracy</th>\n",
       "      <th>val_loss</th>\n",
       "      <th>val_accuracy</th>\n",
       "    </tr>\n",
       "  </thead>\n",
       "  <tbody>\n",
       "    <tr>\n",
       "      <th>0</th>\n",
       "      <td>0.730389</td>\n",
       "      <td>0.933690</td>\n",
       "      <td>0.527965</td>\n",
       "      <td>0.957722</td>\n",
       "    </tr>\n",
       "    <tr>\n",
       "      <th>1</th>\n",
       "      <td>0.357683</td>\n",
       "      <td>0.967238</td>\n",
       "      <td>0.301606</td>\n",
       "      <td>0.975000</td>\n",
       "    </tr>\n",
       "    <tr>\n",
       "      <th>2</th>\n",
       "      <td>0.196190</td>\n",
       "      <td>0.976548</td>\n",
       "      <td>0.225586</td>\n",
       "      <td>0.974611</td>\n",
       "    </tr>\n",
       "    <tr>\n",
       "      <th>3</th>\n",
       "      <td>0.125315</td>\n",
       "      <td>0.982000</td>\n",
       "      <td>0.168055</td>\n",
       "      <td>0.978333</td>\n",
       "    </tr>\n",
       "    <tr>\n",
       "      <th>4</th>\n",
       "      <td>0.086145</td>\n",
       "      <td>0.984452</td>\n",
       "      <td>0.144884</td>\n",
       "      <td>0.979444</td>\n",
       "    </tr>\n",
       "  </tbody>\n",
       "</table>\n",
       "</div>"
      ],
      "text/plain": [
       "       loss  accuracy  val_loss  val_accuracy\n",
       "0  0.730389  0.933690  0.527965      0.957722\n",
       "1  0.357683  0.967238  0.301606      0.975000\n",
       "2  0.196190  0.976548  0.225586      0.974611\n",
       "3  0.125315  0.982000  0.168055      0.978333\n",
       "4  0.086145  0.984452  0.144884      0.979444"
      ]
     },
     "execution_count": 10,
     "metadata": {},
     "output_type": "execute_result"
    }
   ],
   "source": [
    "df1 = pd.DataFrame(history1.history)\n",
    "df1"
   ]
  },
  {
   "cell_type": "code",
   "execution_count": 11,
   "metadata": {},
   "outputs": [
    {
     "data": {
      "image/png": "[encoded data removed]",
      "text/plain": [
       "<Figure size 432x288 with 1 Axes>"
      ]
     },
     "metadata": {
      "needs_background": "light"
     },
     "output_type": "display_data"
    }
   ],
   "source": [
    "ax = df1[[c for c in df1.columns if 'accuracy' in c]].plot()\n",
    "ax.set_ylabel('Accuracy')\n",
    "ax.set_xlabel('Epoch')\n",
    "ax.xaxis.set_major_locator(plt.MaxNLocator(integer=True))"
   ]
  },
  {
   "cell_type": "code",
   "execution_count": 12,
   "metadata": {},
   "outputs": [
    {
     "data": {
      "image/png": "[encoded data removed]",
      "text/plain": [
       "<Figure size 432x288 with 1 Axes>"
      ]
     },
     "metadata": {
      "needs_background": "light"
     },
     "output_type": "display_data"
    }
   ],
   "source": [
    "ax = df1[[c for c in df1.columns if 'loss' in c]].plot()\n",
    "ax.set_ylabel('Loss')\n",
    "ax.set_xlabel('Epoch')\n",
    "ax.xaxis.set_major_locator(plt.MaxNLocator(integer=True))"
   ]
  },
  {
   "cell_type": "code",
   "execution_count": 13,
   "metadata": {},
   "outputs": [
    {
     "name": "stdout",
     "output_type": "stream",
     "text": [
      "313/313 [==============================] - 1s 3ms/step - loss: 0.1247 - accuracy: 0.9811\n"
     ]
    }
   ],
   "source": [
    "loss1, accuracy1 = model.evaluate(X_test, y_test)"
   ]
  },
  {
   "cell_type": "markdown",
   "metadata": {},
   "source": [
    "## Pyramid Pooling Near Output"
   ]
  },
  {
   "cell_type": "code",
   "execution_count": 14,
   "metadata": {},
   "outputs": [
    {
     "name": "stdout",
     "output_type": "stream",
     "text": [
      "Model: \"model_1\"\n",
      "_________________________________________________________________\n",
      "Layer (type)                 Output Shape              Param #   \n",
      "=================================================================\n",
      "input_2 (InputLayer)         [(None, 28, 28, 1)]       0         \n",
      "_________________________________________________________________\n",
      "conv2d_3 (Conv2D)            (None, 28, 28, 64)        320       \n",
      "_________________________________________________________________\n",
      "batch_normalization_3 (Batch (None, 28, 28, 64)        256       \n",
      "_________________________________________________________________\n",
      "dropout_3 (Dropout)          (None, 28, 28, 64)        0         \n",
      "_________________________________________________________________\n",
      "conv2d_4 (Conv2D)            (None, 28, 28, 64)        16448     \n",
      "_________________________________________________________________\n",
      "batch_normalization_4 (Batch (None, 28, 28, 64)        256       \n",
      "_________________________________________________________________\n",
      "dropout_4 (Dropout)          (None, 28, 28, 64)        0         \n",
      "_________________________________________________________________\n",
      "conv2d_5 (Conv2D)            (None, 28, 28, 64)        16448     \n",
      "_________________________________________________________________\n",
      "batch_normalization_5 (Batch (None, 28, 28, 64)        256       \n",
      "_________________________________________________________________\n",
      "dropout_5 (Dropout)          (None, 28, 28, 64)        0         \n",
      "_________________________________________________________________\n",
      "pyramid_pooling_module (Pyra (None, 28, 28, 68)        2308      \n",
      "_________________________________________________________________\n",
      "flatten_1 (Flatten)          (None, 53312)             0         \n",
      "_________________________________________________________________\n",
      "dense_1 (Dense)              (None, 10)                533130    \n",
      "=================================================================\n",
      "Total params: 569,422\n",
      "Trainable params: 569,038\n",
      "Non-trainable params: 384\n",
      "_________________________________________________________________\n"
     ]
    }
   ],
   "source": [
    "input_layer = Input(TARGET_SIZE)\n",
    "x = input_layer\n",
    "x = Conv2D(64, (2, 2), padding='same', activation='relu')(x)\n",
    "x = BatchNormalization()(x)\n",
    "x = Dropout(0.2)(x)\n",
    "x = Conv2D(64, (2, 2), padding='same', activation='relu')(x)\n",
    "x = BatchNormalization()(x)\n",
    "x = Dropout(0.2)(x)\n",
    "x = Conv2D(64, (2, 2), padding='same', activation='relu')(x)\n",
    "x = BatchNormalization()(x)\n",
    "x = Dropout(0.2)(x)\n",
    "x = PyramidPoolingModule(1, (3, 3), padding='same')(x)\n",
    "x = Flatten()(x)\n",
    "x = Dense(10, activation='softmax')(x)\n",
    "model = Model(inputs=input_layer, outputs=x)\n",
    "model.compile(loss='categorical_crossentropy', metrics=['accuracy'])\n",
    "model.summary()"
   ]
  },
  {
   "cell_type": "code",
   "execution_count": 15,
   "metadata": {},
   "outputs": [
    {
     "name": "stdout",
     "output_type": "stream",
     "text": [
      "Epoch 1/5\n",
      "4200/4200 [==============================] - 62s 15ms/step - loss: 1.1654 - accuracy: 0.8886 - val_loss: 1.4213 - val_accuracy: 0.9036\n",
      "Epoch 2/5\n",
      "4200/4200 [==============================] - 62s 15ms/step - loss: 0.3783 - accuracy: 0.9675 - val_loss: 0.3695 - val_accuracy: 0.9621\n",
      "Epoch 3/5\n",
      "4200/4200 [==============================] - 62s 15ms/step - loss: 0.1888 - accuracy: 0.9779 - val_loss: 0.2742 - val_accuracy: 0.9699\n",
      "Epoch 4/5\n",
      "4200/4200 [==============================] - 59s 14ms/step - loss: 0.1376 - accuracy: 0.9816 - val_loss: 0.1814 - val_accuracy: 0.9771\n",
      "Epoch 5/5\n",
      "4200/4200 [==============================] - 61s 15ms/step - loss: 0.1048 - accuracy: 0.9850 - val_loss: 0.1591 - val_accuracy: 0.9776\n"
     ]
    }
   ],
   "source": [
    "history2 = model.fit(X_train, y_train, \n",
    "    epochs=5, \n",
    "    batch_size=10, \n",
    "    validation_split=0.3,\n",
    "    shuffle=True,\n",
    ")"
   ]
  },
  {
   "cell_type": "code",
   "execution_count": 16,
   "metadata": {},
   "outputs": [
    {
     "data": {
      "text/html": [
       "<div>\n",
       "<style scoped>\n",
       "    .dataframe tbody tr th:only-of-type {\n",
       "        vertical-align: middle;\n",
       "    }\n",
       "\n",
       "    .dataframe tbody tr th {\n",
       "        vertical-align: top;\n",
       "    }\n",
       "\n",
       "    .dataframe thead th {\n",
       "        text-align: right;\n",
       "    }\n",
       "</style>\n",
       "<table border=\"1\" class=\"dataframe\">\n",
       "  <thead>\n",
       "    <tr style=\"text-align: right;\">\n",
       "      <th></th>\n",
       "      <th>loss</th>\n",
       "      <th>accuracy</th>\n",
       "      <th>val_loss</th>\n",
       "      <th>val_accuracy</th>\n",
       "    </tr>\n",
       "  </thead>\n",
       "  <tbody>\n",
       "    <tr>\n",
       "      <th>0</th>\n",
       "      <td>0.830301</td>\n",
       "      <td>0.931929</td>\n",
       "      <td>1.421297</td>\n",
       "      <td>0.903556</td>\n",
       "    </tr>\n",
       "    <tr>\n",
       "      <th>1</th>\n",
       "      <td>0.345971</td>\n",
       "      <td>0.969452</td>\n",
       "      <td>0.369487</td>\n",
       "      <td>0.962111</td>\n",
       "    </tr>\n",
       "    <tr>\n",
       "      <th>2</th>\n",
       "      <td>0.195125</td>\n",
       "      <td>0.977500</td>\n",
       "      <td>0.274207</td>\n",
       "      <td>0.969889</td>\n",
       "    </tr>\n",
       "    <tr>\n",
       "      <th>3</th>\n",
       "      <td>0.134800</td>\n",
       "      <td>0.981500</td>\n",
       "      <td>0.181444</td>\n",
       "      <td>0.977056</td>\n",
       "    </tr>\n",
       "    <tr>\n",
       "      <th>4</th>\n",
       "      <td>0.097198</td>\n",
       "      <td>0.985143</td>\n",
       "      <td>0.159130</td>\n",
       "      <td>0.977611</td>\n",
       "    </tr>\n",
       "  </tbody>\n",
       "</table>\n",
       "</div>"
      ],
      "text/plain": [
       "       loss  accuracy  val_loss  val_accuracy\n",
       "0  0.830301  0.931929  1.421297      0.903556\n",
       "1  0.345971  0.969452  0.369487      0.962111\n",
       "2  0.195125  0.977500  0.274207      0.969889\n",
       "3  0.134800  0.981500  0.181444      0.977056\n",
       "4  0.097198  0.985143  0.159130      0.977611"
      ]
     },
     "execution_count": 16,
     "metadata": {},
     "output_type": "execute_result"
    }
   ],
   "source": [
    "df2 = pd.DataFrame(history2.history)\n",
    "df2"
   ]
  },
  {
   "cell_type": "code",
   "execution_count": 17,
   "metadata": {},
   "outputs": [
    {
     "data": {
      "image/png": "[encoded data removed]",
      "text/plain": [
       "<Figure size 432x288 with 1 Axes>"
      ]
     },
     "metadata": {
      "needs_background": "light"
     },
     "output_type": "display_data"
    }
   ],
   "source": [
    "ax = df2[[c for c in df2.columns if 'accuracy' in c]].plot()\n",
    "ax.set_ylabel('Accuracy')\n",
    "ax.set_xlabel('Epoch')\n",
    "ax.xaxis.set_major_locator(plt.MaxNLocator(integer=True))"
   ]
  },
  {
   "cell_type": "code",
   "execution_count": 18,
   "metadata": {},
   "outputs": [
    {
     "data": {
      "image/png": "[encoded data removed]",
      "text/plain": [
       "<Figure size 432x288 with 1 Axes>"
      ]
     },
     "metadata": {
      "needs_background": "light"
     },
     "output_type": "display_data"
    }
   ],
   "source": [
    "ax = df2[[c for c in df2.columns if 'loss' in c]].plot()\n",
    "ax.set_ylabel('Loss')\n",
    "ax.set_xlabel('Epoch')\n",
    "ax.xaxis.set_major_locator(plt.MaxNLocator(integer=True))"
   ]
  },
  {
   "cell_type": "code",
   "execution_count": 19,
   "metadata": {},
   "outputs": [
    {
     "name": "stdout",
     "output_type": "stream",
     "text": [
      "313/313 [==============================] - 4s 13ms/step - loss: 0.1612 - accuracy: 0.9758\n"
     ]
    }
   ],
   "source": [
    "loss2, accuracy2 = model.evaluate(X_test, y_test)"
   ]
  },
  {
   "cell_type": "markdown",
   "metadata": {},
   "source": [
    "## Pyramid Pooling Near Input"
   ]
  },
  {
   "cell_type": "code",
   "execution_count": 20,
   "metadata": {},
   "outputs": [
    {
     "name": "stdout",
     "output_type": "stream",
     "text": [
      "Model: \"model_2\"\n",
      "_________________________________________________________________\n",
      "Layer (type)                 Output Shape              Param #   \n",
      "=================================================================\n",
      "input_3 (InputLayer)         [(None, 28, 28, 1)]       0         \n",
      "_________________________________________________________________\n",
      "pyramid_pooling_module_1 (Py (None, 28, 28, 5)         40        \n",
      "_________________________________________________________________\n",
      "conv2d_6 (Conv2D)            (None, 28, 28, 64)        1344      \n",
      "_________________________________________________________________\n",
      "batch_normalization_6 (Batch (None, 28, 28, 64)        256       \n",
      "_________________________________________________________________\n",
      "dropout_6 (Dropout)          (None, 28, 28, 64)        0         \n",
      "_________________________________________________________________\n",
      "conv2d_7 (Conv2D)            (None, 28, 28, 64)        16448     \n",
      "_________________________________________________________________\n",
      "batch_normalization_7 (Batch (None, 28, 28, 64)        256       \n",
      "_________________________________________________________________\n",
      "dropout_7 (Dropout)          (None, 28, 28, 64)        0         \n",
      "_________________________________________________________________\n",
      "conv2d_8 (Conv2D)            (None, 28, 28, 64)        16448     \n",
      "_________________________________________________________________\n",
      "batch_normalization_8 (Batch (None, 28, 28, 64)        256       \n",
      "_________________________________________________________________\n",
      "dropout_8 (Dropout)          (None, 28, 28, 64)        0         \n",
      "_________________________________________________________________\n",
      "flatten_2 (Flatten)          (None, 50176)             0         \n",
      "_________________________________________________________________\n",
      "dense_2 (Dense)              (None, 10)                501770    \n",
      "=================================================================\n",
      "Total params: 536,818\n",
      "Trainable params: 536,434\n",
      "Non-trainable params: 384\n",
      "_________________________________________________________________\n"
     ]
    }
   ],
   "source": [
    "input_layer = Input(TARGET_SIZE)\n",
    "x = input_layer\n",
    "x = PyramidPoolingModule(1, (3, 3), padding='same')(x)\n",
    "x = Conv2D(64, (2, 2), padding='same', activation='relu')(x)\n",
    "x = BatchNormalization()(x)\n",
    "x = Dropout(0.2)(x)\n",
    "x = Conv2D(64, (2, 2), padding='same', activation='relu')(x)\n",
    "x = BatchNormalization()(x)\n",
    "x = Dropout(0.2)(x)\n",
    "x = Conv2D(64, (2, 2), padding='same', activation='relu')(x)\n",
    "x = BatchNormalization()(x)\n",
    "x = Dropout(0.2)(x)\n",
    "x = Flatten()(x)\n",
    "x = Dense(10, activation='softmax')(x)\n",
    "model = Model(inputs=input_layer, outputs=x)\n",
    "model.compile(loss='categorical_crossentropy', metrics=['accuracy'])\n",
    "model.summary()"
   ]
  },
  {
   "cell_type": "code",
   "execution_count": 21,
   "metadata": {},
   "outputs": [
    {
     "name": "stdout",
     "output_type": "stream",
     "text": [
      "Epoch 1/5\n",
      "4200/4200 [==============================] - 25s 6ms/step - loss: 1.1626 - accuracy: 0.8914 - val_loss: 0.4190 - val_accuracy: 0.9671\n",
      "Epoch 2/5\n",
      "4200/4200 [==============================] - 25s 6ms/step - loss: 0.3462 - accuracy: 0.9687 - val_loss: 0.2900 - val_accuracy: 0.9728\n",
      "Epoch 3/5\n",
      "4200/4200 [==============================] - 25s 6ms/step - loss: 0.1931 - accuracy: 0.9782 - val_loss: 0.2318 - val_accuracy: 0.9707\n",
      "Epoch 4/5\n",
      "4200/4200 [==============================] - 25s 6ms/step - loss: 0.1179 - accuracy: 0.9816 - val_loss: 0.1585 - val_accuracy: 0.9780\n",
      "Epoch 5/5\n",
      "4200/4200 [==============================] - 25s 6ms/step - loss: 0.0905 - accuracy: 0.9860 - val_loss: 0.1294 - val_accuracy: 0.9795\n"
     ]
    }
   ],
   "source": [
    "history3 = model.fit(X_train, y_train, \n",
    "    epochs=5, \n",
    "    batch_size=10, \n",
    "    validation_split=0.3,\n",
    "    shuffle=True,\n",
    ")"
   ]
  },
  {
   "cell_type": "code",
   "execution_count": 22,
   "metadata": {},
   "outputs": [
    {
     "data": {
      "text/html": [
       "<div>\n",
       "<style scoped>\n",
       "    .dataframe tbody tr th:only-of-type {\n",
       "        vertical-align: middle;\n",
       "    }\n",
       "\n",
       "    .dataframe tbody tr th {\n",
       "        vertical-align: top;\n",
       "    }\n",
       "\n",
       "    .dataframe thead th {\n",
       "        text-align: right;\n",
       "    }\n",
       "</style>\n",
       "<table border=\"1\" class=\"dataframe\">\n",
       "  <thead>\n",
       "    <tr style=\"text-align: right;\">\n",
       "      <th></th>\n",
       "      <th>loss</th>\n",
       "      <th>accuracy</th>\n",
       "      <th>val_loss</th>\n",
       "      <th>val_accuracy</th>\n",
       "    </tr>\n",
       "  </thead>\n",
       "  <tbody>\n",
       "    <tr>\n",
       "      <th>0</th>\n",
       "      <td>0.756108</td>\n",
       "      <td>0.935476</td>\n",
       "      <td>0.419033</td>\n",
       "      <td>0.967056</td>\n",
       "    </tr>\n",
       "    <tr>\n",
       "      <th>1</th>\n",
       "      <td>0.325693</td>\n",
       "      <td>0.969071</td>\n",
       "      <td>0.289967</td>\n",
       "      <td>0.972833</td>\n",
       "    </tr>\n",
       "    <tr>\n",
       "      <th>2</th>\n",
       "      <td>0.191694</td>\n",
       "      <td>0.978024</td>\n",
       "      <td>0.231812</td>\n",
       "      <td>0.970722</td>\n",
       "    </tr>\n",
       "    <tr>\n",
       "      <th>3</th>\n",
       "      <td>0.120559</td>\n",
       "      <td>0.981667</td>\n",
       "      <td>0.158528</td>\n",
       "      <td>0.978000</td>\n",
       "    </tr>\n",
       "    <tr>\n",
       "      <th>4</th>\n",
       "      <td>0.089881</td>\n",
       "      <td>0.984857</td>\n",
       "      <td>0.129442</td>\n",
       "      <td>0.979500</td>\n",
       "    </tr>\n",
       "  </tbody>\n",
       "</table>\n",
       "</div>"
      ],
      "text/plain": [
       "       loss  accuracy  val_loss  val_accuracy\n",
       "0  0.756108  0.935476  0.419033      0.967056\n",
       "1  0.325693  0.969071  0.289967      0.972833\n",
       "2  0.191694  0.978024  0.231812      0.970722\n",
       "3  0.120559  0.981667  0.158528      0.978000\n",
       "4  0.089881  0.984857  0.129442      0.979500"
      ]
     },
     "execution_count": 22,
     "metadata": {},
     "output_type": "execute_result"
    }
   ],
   "source": [
    "df3 = pd.DataFrame(history3.history)\n",
    "df3"
   ]
  },
  {
   "cell_type": "code",
   "execution_count": 23,
   "metadata": {},
   "outputs": [
    {
     "data": {
      "image/png": "[encoded data removed]",
      "text/plain": [
       "<Figure size 432x288 with 1 Axes>"
      ]
     },
     "metadata": {
      "needs_background": "light"
     },
     "output_type": "display_data"
    }
   ],
   "source": [
    "ax = df3[[c for c in df3.columns if 'accuracy' in c]].plot()\n",
    "ax.set_ylabel('Accuracy')\n",
    "ax.set_xlabel('Epoch')\n",
    "ax.xaxis.set_major_locator(plt.MaxNLocator(integer=True))"
   ]
  },
  {
   "cell_type": "code",
   "execution_count": 24,
   "metadata": {},
   "outputs": [
    {
     "data": {
      "image/png": "[encoded data removed]",
      "text/plain": [
       "<Figure size 432x288 with 1 Axes>"
      ]
     },
     "metadata": {
      "needs_background": "light"
     },
     "output_type": "display_data"
    }
   ],
   "source": [
    "ax = df3[[c for c in df3.columns if 'loss' in c]].plot()\n",
    "ax.set_ylabel('Loss')\n",
    "ax.set_xlabel('Epoch')\n",
    "ax.xaxis.set_major_locator(plt.MaxNLocator(integer=True))"
   ]
  },
  {
   "cell_type": "code",
   "execution_count": 25,
   "metadata": {},
   "outputs": [
    {
     "name": "stdout",
     "output_type": "stream",
     "text": [
      "313/313 [==============================] - 1s 3ms/step - loss: 0.1014 - accuracy: 0.9824\n"
     ]
    }
   ],
   "source": [
    "loss3, accuracy3 = model.evaluate(X_test, y_test)"
   ]
  },
  {
   "cell_type": "markdown",
   "metadata": {},
   "source": [
    "## Comparisons"
   ]
  },
  {
   "cell_type": "code",
   "execution_count": 26,
   "metadata": {},
   "outputs": [],
   "source": [
    "loss1, loss2, loss3 = 0.001, 0.0002, 0.0004\n",
    "accuracy1, accuracy2, accuracy3 = 0.96, 0.95, 0.98"
   ]
  },
  {
   "cell_type": "code",
   "execution_count": 27,
   "metadata": {},
   "outputs": [
    {
     "data": {
      "text/html": [
       "<div>\n",
       "<style scoped>\n",
       "    .dataframe tbody tr th:only-of-type {\n",
       "        vertical-align: middle;\n",
       "    }\n",
       "\n",
       "    .dataframe tbody tr th {\n",
       "        vertical-align: top;\n",
       "    }\n",
       "\n",
       "    .dataframe thead th {\n",
       "        text-align: right;\n",
       "    }\n",
       "</style>\n",
       "<table border=\"1\" class=\"dataframe\">\n",
       "  <thead>\n",
       "    <tr style=\"text-align: right;\">\n",
       "      <th></th>\n",
       "      <th>Loss</th>\n",
       "      <th>Accuracy</th>\n",
       "    </tr>\n",
       "  </thead>\n",
       "  <tbody>\n",
       "    <tr>\n",
       "      <th>Baselines</th>\n",
       "      <td>0.0010</td>\n",
       "      <td>0.96</td>\n",
       "    </tr>\n",
       "    <tr>\n",
       "      <th>Pyramind Near Output</th>\n",
       "      <td>0.0002</td>\n",
       "      <td>0.95</td>\n",
       "    </tr>\n",
       "    <tr>\n",
       "      <th>Pyramid Near Input</th>\n",
       "      <td>0.0004</td>\n",
       "      <td>0.98</td>\n",
       "    </tr>\n",
       "  </tbody>\n",
       "</table>\n",
       "</div>"
      ],
      "text/plain": [
       "                        Loss  Accuracy\n",
       "Baselines             0.0010      0.96\n",
       "Pyramind Near Output  0.0002      0.95\n",
       "Pyramid Near Input    0.0004      0.98"
      ]
     },
     "execution_count": 27,
     "metadata": {},
     "output_type": "execute_result"
    }
   ],
   "source": [
    "df = pd.DataFrame([[loss1, loss2, loss3], [accuracy1, accuracy2, accuracy3]]).T\n",
    "df.columns = ['Loss', 'Accuracy']\n",
    "df.index = ['Baselines', 'Pyramind Near Output', 'Pyramid Near Input']\n",
    "df"
   ]
  },
  {
   "cell_type": "code",
   "execution_count": 28,
   "metadata": {},
   "outputs": [
    {
     "data": {
      "text/plain": [
       "Text(0.5, 0, 'Architecture')"
      ]
     },
     "execution_count": 28,
     "metadata": {},
     "output_type": "execute_result"
    },
    {
     "data": {
      "image/png": "[encoded data removed]",
      "text/plain": [
       "<Figure size 432x288 with 2 Axes>"
      ]
     },
     "metadata": {
      "needs_background": "light"
     },
     "output_type": "display_data"
    }
   ],
   "source": [
    "ax = df.plot(kind='bar', subplots=True)\n",
    "ax[0].set_ylabel('Loss')\n",
    "ax[1].set_ylabel('Accuracy')\n",
    "ax[1].set_xlabel('Architecture')"
   ]
  },
  {
   "cell_type": "markdown",
   "metadata": {},
   "source": [
    " "
   ]
  }
 ],
 "metadata": {
  "kernelspec": {
   "display_name": "Python 3",
   "language": "python",
   "name": "python3"
  },
  "language_info": {
   "codemirror_mode": {
    "name": "ipython",
    "version": 3
   },
   "file_extension": ".py",
   "mimetype": "text/x-python",
   "name": "python",
   "nbconvert_exporter": "python",
   "pygments_lexer": "ipython3",
   "version": "3.8.5"
  },
  "toc": {
   "base_numbering": 1,
   "nav_menu": {},
   "number_sections": true,
   "sideBar": true,
   "skip_h1_title": false,
   "title_cell": "Table of Contents",
   "title_sidebar": "Contents",
   "toc_cell": false,
   "toc_position": {},
   "toc_section_display": true,
   "toc_window_display": false
  }
 },
 "nbformat": 4,
 "nbformat_minor": 2
}
