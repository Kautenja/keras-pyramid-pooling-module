{
 "cells": [
  {
   "cell_type": "code",
   "execution_count": 1,
   "metadata": {},
   "outputs": [],
   "source": [
    "import numpy as np\n",
    "import pandas as pd\n",
    "import matplotlib.pyplot as plt\n",
    "%matplotlib inline\n",
    "import tensorflow as tf\n",
    "import keras\n",
    "from keras.layers import Activation\n",
    "from keras.layers import BatchNormalization\n",
    "from keras.layers import Conv2D\n",
    "from keras.layers import Dense\n",
    "from keras.layers import Dropout\n",
    "from keras.layers import Flatten\n",
    "from keras.layers import Input\n",
    "from keras.models import Model\n",
    "from keras_pyramid_pooling_module import PyramidPoolingModule"
   ]
  },
  {
   "cell_type": "code",
   "execution_count": 2,
   "metadata": {},
   "outputs": [],
   "source": [
    "np.random.seed(222)\n",
    "tf.random.set_seed(222)"
   ]
  },
  {
   "cell_type": "code",
   "execution_count": 3,
   "metadata": {},
   "outputs": [],
   "source": [
    "def plot_image_grid(data, figsize=(15, 15), cmap=None, cbar=True):\n",
    "    \"\"\"\n",
    "    Plot the data as a grid of images.\n",
    "\n",
    "    Args:\n",
    "        data: the tensor of image data to plot in\n",
    "        (M, N, H, W, C) format where M is the \n",
    "        height of the image grid, N is the width\n",
    "        of the image grid, H is the height of the\n",
    "        image, W is the width of the image, and C\n",
    "        is the channel dimensionality of the image\n",
    "        cmap: the color map to use for the data\n",
    "        cbar: whether to include a color bar legend\n",
    "\n",
    "    Returns:\n",
    "        None\n",
    "\n",
    "    \"\"\"\n",
    "    M, N = data.shape[0], data.shape[1]\n",
    "    fig, ax = plt.subplots(nrows=M, ncols=N, sharex=True, sharey=True, figsize=figsize)\n",
    "    for i in range(M):    \n",
    "        for j in range(N): \n",
    "            idx = i + 1 + N * j\n",
    "            im = ax[i, j].imshow(data[i, j], cmap=cmap)\n",
    "            ax[i, j].axes.xaxis.set_major_locator(plt.NullLocator())\n",
    "            ax[i, j].axes.yaxis.set_major_locator(plt.NullLocator())\n",
    "    if cbar:\n",
    "        cb_ax = fig.add_axes([1., 0.2, 0.02, 0.6])\n",
    "        cbar = fig.colorbar(im, cax=cb_ax)"
   ]
  },
  {
   "cell_type": "markdown",
   "metadata": {},
   "source": [
    "# Dataset"
   ]
  },
  {
   "cell_type": "code",
   "execution_count": 4,
   "metadata": {},
   "outputs": [],
   "source": [
    "(X_train, y_train), (X_test, y_test) = keras.datasets.mnist.load_data()\n",
    "# normalize images into [0, 1]\n",
    "X_train = X_train[..., None] / 255.0\n",
    "X_test = X_test[..., None] / 255.0\n",
    "# get the target size of the images and number of classes\n",
    "TARGET_SIZE = X_train.shape[1:]\n",
    "NUM_CLASSES = np.max(y_train) + 1\n",
    "# convert discrete labels to one-hot vectors\n",
    "y_train = np.eye(NUM_CLASSES)[y_train.flatten()]\n",
    "y_test = np.eye(NUM_CLASSES)[y_test.flatten()]"
   ]
  },
  {
   "cell_type": "code",
   "execution_count": 5,
   "metadata": {},
   "outputs": [
    {
     "data": {
      "text/plain": [
       "((60000, 28, 28, 1), (60000, 10))"
      ]
     },
     "execution_count": 5,
     "metadata": {},
     "output_type": "execute_result"
    }
   ],
   "source": [
    "X_train.shape, y_train.shape"
   ]
  },
  {
   "cell_type": "code",
   "execution_count": 6,
   "metadata": {},
   "outputs": [
    {
     "data": {
      "text/plain": [
       "((10000, 28, 28, 1), (10000, 10))"
      ]
     },
     "execution_count": 6,
     "metadata": {},
     "output_type": "execute_result"
    }
   ],
   "source": [
    "X_test.shape, y_test.shape"
   ]
  },
  {
   "cell_type": "code",
   "execution_count": 7,
   "metadata": {},
   "outputs": [
    {
     "data": {
      "image/png": "[encoded data removed]",
      "text/plain": [
       "<Figure size 1080x1080 with 25 Axes>"
      ]
     },
     "metadata": {},
     "output_type": "display_data"
    }
   ],
   "source": [
    "plot_image_grid(X_train[:25].reshape(5, 5, 28, 28, 1), cbar=False, cmap='bone')"
   ]
  },
  {
   "cell_type": "markdown",
   "metadata": {},
   "source": [
    "# Model"
   ]
  },
  {
   "cell_type": "markdown",
   "metadata": {},
   "source": [
    "## Baseline"
   ]
  },
  {
   "cell_type": "code",
   "execution_count": 8,
   "metadata": {},
   "outputs": [
    {
     "name": "stdout",
     "output_type": "stream",
     "text": [
      "Model: \"model\"\n",
      "_________________________________________________________________\n",
      "Layer (type)                 Output Shape              Param #   \n",
      "=================================================================\n",
      "input_1 (InputLayer)         [(None, 28, 28, 1)]       0         \n",
      "_________________________________________________________________\n",
      "conv2d (Conv2D)              (None, 28, 28, 64)        320       \n",
      "_________________________________________________________________\n",
      "batch_normalization (BatchNo (None, 28, 28, 64)        256       \n",
      "_________________________________________________________________\n",
      "dropout (Dropout)            (None, 28, 28, 64)        0         \n",
      "_________________________________________________________________\n",
      "conv2d_1 (Conv2D)            (None, 28, 28, 64)        16448     \n",
      "_________________________________________________________________\n",
      "batch_normalization_1 (Batch (None, 28, 28, 64)        256       \n",
      "_________________________________________________________________\n",
      "dropout_1 (Dropout)          (None, 28, 28, 64)        0         \n",
      "_________________________________________________________________\n",
      "conv2d_2 (Conv2D)            (None, 28, 28, 64)        16448     \n",
      "_________________________________________________________________\n",
      "batch_normalization_2 (Batch (None, 28, 28, 64)        256       \n",
      "_________________________________________________________________\n",
      "dropout_2 (Dropout)          (None, 28, 28, 64)        0         \n",
      "_________________________________________________________________\n",
      "flatten (Flatten)            (None, 50176)             0         \n",
      "_________________________________________________________________\n",
      "dense (Dense)                (None, 10)                501770    \n",
      "=================================================================\n",
      "Total params: 535,754\n",
      "Trainable params: 535,370\n",
      "Non-trainable params: 384\n",
      "_________________________________________________________________\n"
     ]
    }
   ],
   "source": [
    "input_layer = Input(TARGET_SIZE)\n",
    "x = input_layer\n",
    "x = Conv2D(64, (2, 2), padding='same', activation='relu')(x)\n",
    "x = BatchNormalization()(x)\n",
    "x = Dropout(0.2)(x)\n",
    "x = Conv2D(64, (2, 2), padding='same', activation='relu')(x)\n",
    "x = BatchNormalization()(x)\n",
    "x = Dropout(0.2)(x)\n",
    "x = Conv2D(64, (2, 2), padding='same', activation='relu')(x)\n",
    "x = BatchNormalization()(x)\n",
    "x = Dropout(0.2)(x)\n",
    "x = Flatten()(x)\n",
    "x = Dense(10, activation='softmax')(x)\n",
    "model = Model(inputs=input_layer, outputs=x)\n",
    "model.compile(loss='categorical_crossentropy', metrics=['accuracy'])\n",
    "model.summary()"
   ]
  },
  {
   "cell_type": "code",
   "execution_count": 9,
   "metadata": {
    "scrolled": false
   },
   "outputs": [
    {
     "name": "stdout",
     "output_type": "stream",
     "text": [
      "Epoch 1/5\n",
      "4200/4200 [==============================] - 239s 57ms/step - loss: 1.0590 - accuracy: 0.8894 - val_loss: 0.5077 - val_accuracy: 0.9617\n",
      "Epoch 2/5\n",
      "4200/4200 [==============================] - 232s 55ms/step - loss: 0.3550 - accuracy: 0.9672 - val_loss: 0.4463 - val_accuracy: 0.9574\n",
      "Epoch 3/5\n",
      "4200/4200 [==============================] - 230s 55ms/step - loss: 0.1811 - accuracy: 0.9775 - val_loss: 0.2615 - val_accuracy: 0.9725\n",
      "Epoch 4/5\n",
      "4200/4200 [==============================] - 221s 53ms/step - loss: 0.1270 - accuracy: 0.9805 - val_loss: 0.1785 - val_accuracy: 0.9777\n",
      "Epoch 5/5\n",
      "4200/4200 [==============================] - 221s 53ms/step - loss: 0.0792 - accuracy: 0.9861 - val_loss: 0.1748 - val_accuracy: 0.9776\n"
     ]
    }
   ],
   "source": [
    "history1 = model.fit(X_train, y_train, \n",
    "    epochs=5, \n",
    "    batch_size=10, \n",
    "    validation_split=0.3,\n",
    "    shuffle=True,\n",
    ")"
   ]
  },
  {
   "cell_type": "code",
   "execution_count": 10,
   "metadata": {},
   "outputs": [
    {
     "data": {
      "text/html": [
       "<div>\n",
       "<style scoped>\n",
       "    .dataframe tbody tr th:only-of-type {\n",
       "        vertical-align: middle;\n",
       "    }\n",
       "\n",
       "    .dataframe tbody tr th {\n",
       "        vertical-align: top;\n",
       "    }\n",
       "\n",
       "    .dataframe thead th {\n",
       "        text-align: right;\n",
       "    }\n",
       "</style>\n",
       "<table border=\"1\" class=\"dataframe\">\n",
       "  <thead>\n",
       "    <tr style=\"text-align: right;\">\n",
       "      <th></th>\n",
       "      <th>loss</th>\n",
       "      <th>accuracy</th>\n",
       "      <th>val_loss</th>\n",
       "      <th>val_accuracy</th>\n",
       "    </tr>\n",
       "  </thead>\n",
       "  <tbody>\n",
       "    <tr>\n",
       "      <th>0</th>\n",
       "      <td>0.762028</td>\n",
       "      <td>0.933429</td>\n",
       "      <td>0.507727</td>\n",
       "      <td>0.961667</td>\n",
       "    </tr>\n",
       "    <tr>\n",
       "      <th>1</th>\n",
       "      <td>0.337193</td>\n",
       "      <td>0.968548</td>\n",
       "      <td>0.446303</td>\n",
       "      <td>0.957389</td>\n",
       "    </tr>\n",
       "    <tr>\n",
       "      <th>2</th>\n",
       "      <td>0.195483</td>\n",
       "      <td>0.976619</td>\n",
       "      <td>0.261507</td>\n",
       "      <td>0.972500</td>\n",
       "    </tr>\n",
       "    <tr>\n",
       "      <th>3</th>\n",
       "      <td>0.125899</td>\n",
       "      <td>0.981143</td>\n",
       "      <td>0.178452</td>\n",
       "      <td>0.977722</td>\n",
       "    </tr>\n",
       "    <tr>\n",
       "      <th>4</th>\n",
       "      <td>0.080672</td>\n",
       "      <td>0.986000</td>\n",
       "      <td>0.174824</td>\n",
       "      <td>0.977611</td>\n",
       "    </tr>\n",
       "  </tbody>\n",
       "</table>\n",
       "</div>"
      ],
      "text/plain": [
       "       loss  accuracy  val_loss  val_accuracy\n",
       "0  0.762028  0.933429  0.507727      0.961667\n",
       "1  0.337193  0.968548  0.446303      0.957389\n",
       "2  0.195483  0.976619  0.261507      0.972500\n",
       "3  0.125899  0.981143  0.178452      0.977722\n",
       "4  0.080672  0.986000  0.174824      0.977611"
      ]
     },
     "execution_count": 10,
     "metadata": {},
     "output_type": "execute_result"
    }
   ],
   "source": [
    "df1 = pd.DataFrame(history1.history)\n",
    "df1"
   ]
  },
  {
   "cell_type": "code",
   "execution_count": 11,
   "metadata": {},
   "outputs": [
    {
     "data": {
      "image/png": "[encoded data removed]",
      "text/plain": [
       "<Figure size 432x288 with 1 Axes>"
      ]
     },
     "metadata": {
      "needs_background": "light"
     },
     "output_type": "display_data"
    }
   ],
   "source": [
    "ax = df1[[c for c in df1.columns if 'accuracy' in c]].plot()\n",
    "ax.set_ylabel('Accuracy')\n",
    "ax.set_xlabel('Epoch')\n",
    "ax.xaxis.set_major_locator(plt.MaxNLocator(integer=True))"
   ]
  },
  {
   "cell_type": "code",
   "execution_count": 12,
   "metadata": {},
   "outputs": [
    {
     "data": {
      "image/png": "[encoded data removed]",
      "text/plain": [
       "<Figure size 432x288 with 1 Axes>"
      ]
     },
     "metadata": {
      "needs_background": "light"
     },
     "output_type": "display_data"
    }
   ],
   "source": [
    "ax = df1[[c for c in df1.columns if 'loss' in c]].plot()\n",
    "ax.set_ylabel('Loss')\n",
    "ax.set_xlabel('Epoch')\n",
    "ax.xaxis.set_major_locator(plt.MaxNLocator(integer=True))"
   ]
  },
  {
   "cell_type": "code",
   "execution_count": 13,
   "metadata": {},
   "outputs": [
    {
     "name": "stdout",
     "output_type": "stream",
     "text": [
      "313/313 [==============================] - 7s 23ms/step - loss: 0.1267 - accuracy: 0.9789\n"
     ]
    }
   ],
   "source": [
    "loss1, accuracy1 = model.evaluate(X_test, y_test)"
   ]
  },
  {
   "cell_type": "markdown",
   "metadata": {},
   "source": [
    "## Pyramid Pooling Near Output"
   ]
  },
  {
   "cell_type": "code",
   "execution_count": 14,
   "metadata": {},
   "outputs": [
    {
     "name": "stdout",
     "output_type": "stream",
     "text": [
      "Model: \"model_1\"\n",
      "_________________________________________________________________\n",
      "Layer (type)                 Output Shape              Param #   \n",
      "=================================================================\n",
      "input_2 (InputLayer)         [(None, 28, 28, 1)]       0         \n",
      "_________________________________________________________________\n",
      "conv2d_3 (Conv2D)            (None, 28, 28, 64)        320       \n",
      "_________________________________________________________________\n",
      "batch_normalization_3 (Batch (None, 28, 28, 64)        256       \n",
      "_________________________________________________________________\n",
      "dropout_3 (Dropout)          (None, 28, 28, 64)        0         \n",
      "_________________________________________________________________\n",
      "conv2d_4 (Conv2D)            (None, 28, 28, 64)        16448     \n",
      "_________________________________________________________________\n",
      "batch_normalization_4 (Batch (None, 28, 28, 64)        256       \n",
      "_________________________________________________________________\n",
      "dropout_4 (Dropout)          (None, 28, 28, 64)        0         \n",
      "_________________________________________________________________\n",
      "conv2d_5 (Conv2D)            (None, 28, 28, 64)        16448     \n",
      "_________________________________________________________________\n",
      "batch_normalization_5 (Batch (None, 28, 28, 64)        256       \n",
      "_________________________________________________________________\n",
      "dropout_5 (Dropout)          (None, 28, 28, 64)        0         \n",
      "_________________________________________________________________\n",
      "pyramid_pooling_module (Pyra (None, 28, 28, 68)        2308      \n",
      "_________________________________________________________________\n",
      "flatten_1 (Flatten)          (None, 53312)             0         \n",
      "_________________________________________________________________\n",
      "dense_1 (Dense)              (None, 10)                533130    \n",
      "=================================================================\n",
      "Total params: 569,422\n",
      "Trainable params: 569,038\n",
      "Non-trainable params: 384\n",
      "_________________________________________________________________\n"
     ]
    }
   ],
   "source": [
    "input_layer = Input(TARGET_SIZE)\n",
    "x = input_layer\n",
    "x = Conv2D(64, (2, 2), padding='same', activation='relu')(x)\n",
    "x = BatchNormalization()(x)\n",
    "x = Dropout(0.2)(x)\n",
    "x = Conv2D(64, (2, 2), padding='same', activation='relu')(x)\n",
    "x = BatchNormalization()(x)\n",
    "x = Dropout(0.2)(x)\n",
    "x = Conv2D(64, (2, 2), padding='same', activation='relu')(x)\n",
    "x = BatchNormalization()(x)\n",
    "x = Dropout(0.2)(x)\n",
    "x = PyramidPoolingModule(1, (3, 3), padding='same')(x)\n",
    "x = Flatten()(x)\n",
    "x = Dense(10, activation='softmax')(x)\n",
    "model = Model(inputs=input_layer, outputs=x)\n",
    "model.compile(loss='categorical_crossentropy', metrics=['accuracy'])\n",
    "model.summary()"
   ]
  },
  {
   "cell_type": "code",
   "execution_count": 15,
   "metadata": {},
   "outputs": [
    {
     "name": "stdout",
     "output_type": "stream",
     "text": [
      "Epoch 1/5\n",
      "4200/4200 [==============================] - 823s 196ms/step - loss: 1.1617 - accuracy: 0.8890 - val_loss: 0.6043 - val_accuracy: 0.9582\n",
      "Epoch 2/5\n",
      "4200/4200 [==============================] - 694s 165ms/step - loss: 0.3893 - accuracy: 0.9679 - val_loss: 0.3177 - val_accuracy: 0.9736\n",
      "Epoch 3/5\n",
      "4200/4200 [==============================] - 692s 165ms/step - loss: 0.1869 - accuracy: 0.9786 - val_loss: 0.4123 - val_accuracy: 0.9622\n",
      "Epoch 4/5\n",
      "4200/4200 [==============================] - 775s 185ms/step - loss: 0.1430 - accuracy: 0.9811 - val_loss: 0.2077 - val_accuracy: 0.9784\n",
      "Epoch 5/5\n",
      "4200/4200 [==============================] - 745s 177ms/step - loss: 0.1059 - accuracy: 0.9851 - val_loss: 0.1881 - val_accuracy: 0.9791\n"
     ]
    }
   ],
   "source": [
    "history2 = model.fit(X_train, y_train, \n",
    "    epochs=5, \n",
    "    batch_size=10, \n",
    "    validation_split=0.3,\n",
    "    shuffle=True,\n",
    ")"
   ]
  },
  {
   "cell_type": "code",
   "execution_count": 16,
   "metadata": {},
   "outputs": [
    {
     "data": {
      "text/html": [
       "<div>\n",
       "<style scoped>\n",
       "    .dataframe tbody tr th:only-of-type {\n",
       "        vertical-align: middle;\n",
       "    }\n",
       "\n",
       "    .dataframe tbody tr th {\n",
       "        vertical-align: top;\n",
       "    }\n",
       "\n",
       "    .dataframe thead th {\n",
       "        text-align: right;\n",
       "    }\n",
       "</style>\n",
       "<table border=\"1\" class=\"dataframe\">\n",
       "  <thead>\n",
       "    <tr style=\"text-align: right;\">\n",
       "      <th></th>\n",
       "      <th>loss</th>\n",
       "      <th>accuracy</th>\n",
       "      <th>val_loss</th>\n",
       "      <th>val_accuracy</th>\n",
       "    </tr>\n",
       "  </thead>\n",
       "  <tbody>\n",
       "    <tr>\n",
       "      <th>0</th>\n",
       "      <td>0.845303</td>\n",
       "      <td>0.932786</td>\n",
       "      <td>0.604283</td>\n",
       "      <td>0.958167</td>\n",
       "    </tr>\n",
       "    <tr>\n",
       "      <th>1</th>\n",
       "      <td>0.359144</td>\n",
       "      <td>0.969214</td>\n",
       "      <td>0.317695</td>\n",
       "      <td>0.973556</td>\n",
       "    </tr>\n",
       "    <tr>\n",
       "      <th>2</th>\n",
       "      <td>0.196332</td>\n",
       "      <td>0.977881</td>\n",
       "      <td>0.412330</td>\n",
       "      <td>0.962167</td>\n",
       "    </tr>\n",
       "    <tr>\n",
       "      <th>3</th>\n",
       "      <td>0.132914</td>\n",
       "      <td>0.982381</td>\n",
       "      <td>0.207678</td>\n",
       "      <td>0.978389</td>\n",
       "    </tr>\n",
       "    <tr>\n",
       "      <th>4</th>\n",
       "      <td>0.099598</td>\n",
       "      <td>0.985333</td>\n",
       "      <td>0.188124</td>\n",
       "      <td>0.979111</td>\n",
       "    </tr>\n",
       "  </tbody>\n",
       "</table>\n",
       "</div>"
      ],
      "text/plain": [
       "       loss  accuracy  val_loss  val_accuracy\n",
       "0  0.845303  0.932786  0.604283      0.958167\n",
       "1  0.359144  0.969214  0.317695      0.973556\n",
       "2  0.196332  0.977881  0.412330      0.962167\n",
       "3  0.132914  0.982381  0.207678      0.978389\n",
       "4  0.099598  0.985333  0.188124      0.979111"
      ]
     },
     "execution_count": 16,
     "metadata": {},
     "output_type": "execute_result"
    }
   ],
   "source": [
    "df2 = pd.DataFrame(history2.history)\n",
    "df2"
   ]
  },
  {
   "cell_type": "code",
   "execution_count": 17,
   "metadata": {},
   "outputs": [
    {
     "data": {
      "image/png": "[encoded data removed]",
      "text/plain": [
       "<Figure size 432x288 with 1 Axes>"
      ]
     },
     "metadata": {
      "needs_background": "light"
     },
     "output_type": "display_data"
    }
   ],
   "source": [
    "ax = df2[[c for c in df2.columns if 'accuracy' in c]].plot()\n",
    "ax.set_ylabel('Accuracy')\n",
    "ax.set_xlabel('Epoch')\n",
    "ax.xaxis.set_major_locator(plt.MaxNLocator(integer=True))"
   ]
  },
  {
   "cell_type": "code",
   "execution_count": 18,
   "metadata": {},
   "outputs": [
    {
     "data": {
      "image/png": "[encoded data removed]",
      "text/plain": [
       "<Figure size 432x288 with 1 Axes>"
      ]
     },
     "metadata": {
      "needs_background": "light"
     },
     "output_type": "display_data"
    }
   ],
   "source": [
    "ax = df2[[c for c in df2.columns if 'loss' in c]].plot()\n",
    "ax.set_ylabel('Loss')\n",
    "ax.set_xlabel('Epoch')\n",
    "ax.xaxis.set_major_locator(plt.MaxNLocator(integer=True))"
   ]
  },
  {
   "cell_type": "code",
   "execution_count": 19,
   "metadata": {},
   "outputs": [
    {
     "name": "stdout",
     "output_type": "stream",
     "text": [
      "313/313 [==============================] - 42s 135ms/step - loss: 0.1461 - accuracy: 0.9828\n"
     ]
    }
   ],
   "source": [
    "loss2, accuracy2 = model.evaluate(X_test, y_test)"
   ]
  },
  {
   "cell_type": "markdown",
   "metadata": {},
   "source": [
    "## Pyramid Pooling Near Input"
   ]
  },
  {
   "cell_type": "code",
   "execution_count": 20,
   "metadata": {},
   "outputs": [
    {
     "name": "stdout",
     "output_type": "stream",
     "text": [
      "Model: \"model_2\"\n",
      "_________________________________________________________________\n",
      "Layer (type)                 Output Shape              Param #   \n",
      "=================================================================\n",
      "input_3 (InputLayer)         [(None, 28, 28, 1)]       0         \n",
      "_________________________________________________________________\n",
      "pyramid_pooling_module_1 (Py (None, 28, 28, 5)         40        \n",
      "_________________________________________________________________\n",
      "conv2d_6 (Conv2D)            (None, 28, 28, 64)        1344      \n",
      "_________________________________________________________________\n",
      "batch_normalization_6 (Batch (None, 28, 28, 64)        256       \n",
      "_________________________________________________________________\n",
      "dropout_6 (Dropout)          (None, 28, 28, 64)        0         \n",
      "_________________________________________________________________\n",
      "conv2d_7 (Conv2D)            (None, 28, 28, 64)        16448     \n",
      "_________________________________________________________________\n",
      "batch_normalization_7 (Batch (None, 28, 28, 64)        256       \n",
      "_________________________________________________________________\n",
      "dropout_7 (Dropout)          (None, 28, 28, 64)        0         \n",
      "_________________________________________________________________\n",
      "conv2d_8 (Conv2D)            (None, 28, 28, 64)        16448     \n",
      "_________________________________________________________________\n",
      "batch_normalization_8 (Batch (None, 28, 28, 64)        256       \n",
      "_________________________________________________________________\n",
      "dropout_8 (Dropout)          (None, 28, 28, 64)        0         \n",
      "_________________________________________________________________\n",
      "flatten_2 (Flatten)          (None, 50176)             0         \n",
      "_________________________________________________________________\n",
      "dense_2 (Dense)              (None, 10)                501770    \n",
      "=================================================================\n",
      "Total params: 536,818\n",
      "Trainable params: 536,434\n",
      "Non-trainable params: 384\n",
      "_________________________________________________________________\n"
     ]
    }
   ],
   "source": [
    "input_layer = Input(TARGET_SIZE)\n",
    "x = input_layer\n",
    "x = PyramidPoolingModule(1, (3, 3), padding='same')(x)\n",
    "x = Conv2D(64, (2, 2), padding='same', activation='relu')(x)\n",
    "x = BatchNormalization()(x)\n",
    "x = Dropout(0.2)(x)\n",
    "x = Conv2D(64, (2, 2), padding='same', activation='relu')(x)\n",
    "x = BatchNormalization()(x)\n",
    "x = Dropout(0.2)(x)\n",
    "x = Conv2D(64, (2, 2), padding='same', activation='relu')(x)\n",
    "x = BatchNormalization()(x)\n",
    "x = Dropout(0.2)(x)\n",
    "x = Flatten()(x)\n",
    "x = Dense(10, activation='softmax')(x)\n",
    "model = Model(inputs=input_layer, outputs=x)\n",
    "model.compile(loss='categorical_crossentropy', metrics=['accuracy'])\n",
    "model.summary()"
   ]
  },
  {
   "cell_type": "code",
   "execution_count": 21,
   "metadata": {},
   "outputs": [
    {
     "name": "stdout",
     "output_type": "stream",
     "text": [
      "Epoch 1/5\n",
      "4200/4200 [==============================] - 347s 82ms/step - loss: 1.1385 - accuracy: 0.8887 - val_loss: 0.3826 - val_accuracy: 0.9672\n",
      "Epoch 2/5\n",
      "4200/4200 [==============================] - 350s 83ms/step - loss: 0.3313 - accuracy: 0.9688 - val_loss: 0.4859 - val_accuracy: 0.9542\n",
      "Epoch 3/5\n",
      "4200/4200 [==============================] - 361s 86ms/step - loss: 0.1957 - accuracy: 0.9773 - val_loss: 0.2213 - val_accuracy: 0.9713\n",
      "Epoch 4/5\n",
      "4200/4200 [==============================] - 361s 86ms/step - loss: 0.1182 - accuracy: 0.9813 - val_loss: 0.1526 - val_accuracy: 0.9772\n",
      "Epoch 5/5\n",
      "4200/4200 [==============================] - 325s 77ms/step - loss: 0.0806 - accuracy: 0.9859 - val_loss: 0.1207 - val_accuracy: 0.9804\n"
     ]
    }
   ],
   "source": [
    "history3 = model.fit(X_train, y_train, \n",
    "    epochs=5, \n",
    "    batch_size=10, \n",
    "    validation_split=0.3,\n",
    "    shuffle=True,\n",
    ")"
   ]
  },
  {
   "cell_type": "code",
   "execution_count": 22,
   "metadata": {},
   "outputs": [
    {
     "data": {
      "text/html": [
       "<div>\n",
       "<style scoped>\n",
       "    .dataframe tbody tr th:only-of-type {\n",
       "        vertical-align: middle;\n",
       "    }\n",
       "\n",
       "    .dataframe tbody tr th {\n",
       "        vertical-align: top;\n",
       "    }\n",
       "\n",
       "    .dataframe thead th {\n",
       "        text-align: right;\n",
       "    }\n",
       "</style>\n",
       "<table border=\"1\" class=\"dataframe\">\n",
       "  <thead>\n",
       "    <tr style=\"text-align: right;\">\n",
       "      <th></th>\n",
       "      <th>loss</th>\n",
       "      <th>accuracy</th>\n",
       "      <th>val_loss</th>\n",
       "      <th>val_accuracy</th>\n",
       "    </tr>\n",
       "  </thead>\n",
       "  <tbody>\n",
       "    <tr>\n",
       "      <th>0</th>\n",
       "      <td>0.726905</td>\n",
       "      <td>0.935500</td>\n",
       "      <td>0.382615</td>\n",
       "      <td>0.967167</td>\n",
       "    </tr>\n",
       "    <tr>\n",
       "      <th>1</th>\n",
       "      <td>0.316277</td>\n",
       "      <td>0.969571</td>\n",
       "      <td>0.485867</td>\n",
       "      <td>0.954222</td>\n",
       "    </tr>\n",
       "    <tr>\n",
       "      <th>2</th>\n",
       "      <td>0.192380</td>\n",
       "      <td>0.977238</td>\n",
       "      <td>0.221251</td>\n",
       "      <td>0.971278</td>\n",
       "    </tr>\n",
       "    <tr>\n",
       "      <th>3</th>\n",
       "      <td>0.116078</td>\n",
       "      <td>0.981833</td>\n",
       "      <td>0.152626</td>\n",
       "      <td>0.977167</td>\n",
       "    </tr>\n",
       "    <tr>\n",
       "      <th>4</th>\n",
       "      <td>0.080879</td>\n",
       "      <td>0.985929</td>\n",
       "      <td>0.120652</td>\n",
       "      <td>0.980444</td>\n",
       "    </tr>\n",
       "  </tbody>\n",
       "</table>\n",
       "</div>"
      ],
      "text/plain": [
       "       loss  accuracy  val_loss  val_accuracy\n",
       "0  0.726905  0.935500  0.382615      0.967167\n",
       "1  0.316277  0.969571  0.485867      0.954222\n",
       "2  0.192380  0.977238  0.221251      0.971278\n",
       "3  0.116078  0.981833  0.152626      0.977167\n",
       "4  0.080879  0.985929  0.120652      0.980444"
      ]
     },
     "execution_count": 22,
     "metadata": {},
     "output_type": "execute_result"
    }
   ],
   "source": [
    "df3 = pd.DataFrame(history3.history)\n",
    "df3"
   ]
  },
  {
   "cell_type": "code",
   "execution_count": 23,
   "metadata": {},
   "outputs": [
    {
     "data": {
      "image/png": "[encoded data removed]",
      "text/plain": [
       "<Figure size 432x288 with 1 Axes>"
      ]
     },
     "metadata": {
      "needs_background": "light"
     },
     "output_type": "display_data"
    }
   ],
   "source": [
    "ax = df3[[c for c in df3.columns if 'accuracy' in c]].plot()\n",
    "ax.set_ylabel('Accuracy')\n",
    "ax.set_xlabel('Epoch')\n",
    "ax.xaxis.set_major_locator(plt.MaxNLocator(integer=True))"
   ]
  },
  {
   "cell_type": "code",
   "execution_count": 24,
   "metadata": {},
   "outputs": [
    {
     "data": {
      "image/png": "[encoded data removed]",
      "text/plain": [
       "<Figure size 432x288 with 1 Axes>"
      ]
     },
     "metadata": {
      "needs_background": "light"
     },
     "output_type": "display_data"
    }
   ],
   "source": [
    "ax = df3[[c for c in df3.columns if 'loss' in c]].plot()\n",
    "ax.set_ylabel('Loss')\n",
    "ax.set_xlabel('Epoch')\n",
    "ax.xaxis.set_major_locator(plt.MaxNLocator(integer=True))"
   ]
  },
  {
   "cell_type": "code",
   "execution_count": 25,
   "metadata": {},
   "outputs": [
    {
     "name": "stdout",
     "output_type": "stream",
     "text": [
      "313/313 [==============================] - 23s 72ms/step - loss: 0.0793 - accuracy: 0.9868\n"
     ]
    }
   ],
   "source": [
    "loss3, accuracy3 = model.evaluate(X_test, y_test)"
   ]
  },
  {
   "cell_type": "markdown",
   "metadata": {},
   "source": [
    "## Comparisons"
   ]
  },
  {
   "cell_type": "code",
   "execution_count": 26,
   "metadata": {},
   "outputs": [
    {
     "data": {
      "text/html": [
       "<div>\n",
       "<style scoped>\n",
       "    .dataframe tbody tr th:only-of-type {\n",
       "        vertical-align: middle;\n",
       "    }\n",
       "\n",
       "    .dataframe tbody tr th {\n",
       "        vertical-align: top;\n",
       "    }\n",
       "\n",
       "    .dataframe thead th {\n",
       "        text-align: right;\n",
       "    }\n",
       "</style>\n",
       "<table border=\"1\" class=\"dataframe\">\n",
       "  <thead>\n",
       "    <tr style=\"text-align: right;\">\n",
       "      <th></th>\n",
       "      <th>Loss</th>\n",
       "      <th>Accuracy</th>\n",
       "    </tr>\n",
       "  </thead>\n",
       "  <tbody>\n",
       "    <tr>\n",
       "      <th>Baselines</th>\n",
       "      <td>0.126698</td>\n",
       "      <td>0.9789</td>\n",
       "    </tr>\n",
       "    <tr>\n",
       "      <th>Pyramind Near Output</th>\n",
       "      <td>0.146119</td>\n",
       "      <td>0.9828</td>\n",
       "    </tr>\n",
       "    <tr>\n",
       "      <th>Pyramid Near Input</th>\n",
       "      <td>0.079317</td>\n",
       "      <td>0.9868</td>\n",
       "    </tr>\n",
       "  </tbody>\n",
       "</table>\n",
       "</div>"
      ],
      "text/plain": [
       "                          Loss  Accuracy\n",
       "Baselines             0.126698    0.9789\n",
       "Pyramind Near Output  0.146119    0.9828\n",
       "Pyramid Near Input    0.079317    0.9868"
      ]
     },
     "execution_count": 26,
     "metadata": {},
     "output_type": "execute_result"
    }
   ],
   "source": [
    "df = pd.DataFrame([[loss1, loss2, loss3], [accuracy1, accuracy2, accuracy3]]).T\n",
    "df.columns = ['Loss', 'Accuracy']\n",
    "df.index = ['Baselines', 'Pyramind Near Output', 'Pyramid Near Input']\n",
    "df"
   ]
  },
  {
   "cell_type": "code",
   "execution_count": 27,
   "metadata": {},
   "outputs": [
    {
     "data": {
      "text/plain": [
       "Text(0.5, 0, 'Architecture')"
      ]
     },
     "execution_count": 27,
     "metadata": {},
     "output_type": "execute_result"
    },
    {
     "data": {
      "image/png": "[encoded data removed]",
      "text/plain": [
       "<Figure size 432x288 with 2 Axes>"
      ]
     },
     "metadata": {
      "needs_background": "light"
     },
     "output_type": "display_data"
    }
   ],
   "source": [
    "ax = df.plot(kind='bar', subplots=True)\n",
    "ax[0].set_ylabel('Loss')\n",
    "ax[1].set_ylabel('Accuracy')\n",
    "ax[1].set_xlabel('Architecture')"
   ]
  },
  {
   "cell_type": "markdown",
   "metadata": {},
   "source": [
    " "
   ]
  }
 ],
 "metadata": {
  "kernelspec": {
   "display_name": "Python 3",
   "language": "python",
   "name": "python3"
  },
  "language_info": {
   "codemirror_mode": {
    "name": "ipython",
    "version": 3
   },
   "file_extension": ".py",
   "mimetype": "text/x-python",
   "name": "python",
   "nbconvert_exporter": "python",
   "pygments_lexer": "ipython3",
   "version": "3.8.2"
  },
  "toc": {
   "base_numbering": 1,
   "nav_menu": {},
   "number_sections": true,
   "sideBar": true,
   "skip_h1_title": false,
   "title_cell": "Table of Contents",
   "title_sidebar": "Contents",
   "toc_cell": false,
   "toc_position": {},
   "toc_section_display": true,
   "toc_window_display": false
  }
 },
 "nbformat": 4,
 "nbformat_minor": 2
}
